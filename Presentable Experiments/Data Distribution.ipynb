{
 "cells": [
  {
   "cell_type": "code",
   "execution_count": 48,
   "metadata": {},
   "outputs": [
    {
     "name": "stdout",
     "output_type": "stream",
     "text": [
      "/Users/agupta/Documents/DM LAB/projects/e3d_lstm-master/Presentable Experiments\n"
     ]
    }
   ],
   "source": [
    "from pyhdf.SD  import *\n",
    "import numpy as np \n",
    "import matplotlib.pyplot as plt\n",
    "import os\n",
    "\n",
    "print(os.getcwd())\n",
    "\n",
    "def readfile_br(path,start,end):\n",
    "    sequence=[]\n",
    "    count=end-start\n",
    "    for i in range(start,end):\n",
    "        thispath=path+\"br002_\"+str(i)+\".hdf\"\n",
    "        #print(\"Reading Files :\",thispath)\n",
    "        image_sequence = SD(thispath, SDC.READ)\n",
    "        sds_obj = image_sequence.select('Data-Set-2')\n",
    "        dim3 = sds_obj.get()\n",
    "        frame=[]\n",
    "        for i in range(0,141):\n",
    "            frame.append(dim3[:,:,i])\n",
    "        frame=np.array(frame)\n",
    "        sequence.append(frame)\n",
    "    sequence=np.array(sequence)\n",
    "    data=sequence.reshape(count,141,128,110,1)\n",
    "    #data=pad_the_frame(data)\n",
    "    return data\n",
    "\n",
    "def scale(data):\n",
    "    from sklearn.preprocessing import minmax_scale\n",
    "    shape = data.shape\n",
    "    data = minmax_scale(data.ravel(), feature_range=(0,255)).reshape(shape)\n",
    "    return data\n",
    "\n",
    "def getIntrestingFrames(data,frame_start,frame_end):\n",
    "    print('todelete shape of data: ', data.shape)\n",
    "    short_data = np.zeros((data.shape[0],10,128,110,1))           #tf.v1\n",
    "    for file in range(data.shape[0]):\n",
    "        short_data[file,0:5]=data[file,frame_start:frame_start+5,:,:,:]   #tf.v1\n",
    "        short_data[file,5:10]=data[file,frame_start+5:frame_end+1,:,:,:]     #tf.v1\n",
    "    s=np.array(short_data)\n",
    "    return s\n",
    "\n",
    "def createPatchyData(data,window,stride):\n",
    "    image_size=(data.shape[2],data.shape[3])\n",
    "    #window=(32,32)\n",
    "    #stride=(3,3)\n",
    "    new_data=[]\n",
    "    frame_num=-1\n",
    "    for file in range(data.shape[0]):\n",
    "        h_stop=0\n",
    "        for h in range(0,image_size[0],stride[0]):\n",
    "            if h_stop:\n",
    "                break\n",
    "            if h + window[0] >= image_size[0]:\n",
    "                h=image_size[0] - window[0]\n",
    "                h_stop=1\n",
    "            v_stop=0\n",
    "            for v in range(0,image_size[1],stride[1]):\n",
    "                if v_stop:\n",
    "                    break\n",
    "                if v + window[1] >= image_size[1]:\n",
    "                    v=image_size[1] - window[1]\n",
    "                    v_stop=1\n",
    "                frame_num+=1\n",
    "                new_data.append(data[file,:,h:h + window[0],v:v + window[1],:])\n",
    "    new_data=np.array(new_data)\n",
    "    return new_data\n"
   ]
  },
  {
   "cell_type": "code",
   "execution_count": 49,
   "metadata": {},
   "outputs": [],
   "source": [
    "start=0\n",
    "end=1\n",
    "sequence_length=10\n",
    "path=\"../data/sampleData/\"\n",
    "frame_start=0\n",
    "frame_end=9\n",
    "window=(64,64)\n",
    "stride=(4,4)\n",
    "#createData(start,end,sequence_length,path,frame_start,frame_end)\n",
    "data=(readfile_br(path,start,end))"
   ]
  },
  {
   "cell_type": "code",
   "execution_count": 50,
   "metadata": {},
   "outputs": [
    {
     "data": {
      "image/png": "[encoded data removed]",
      "text/plain": [
       "<Figure size 432x288 with 1 Axes>"
      ]
     },
     "metadata": {
      "needs_background": "light"
     },
     "output_type": "display_data"
    },
    {
     "data": {
      "text/plain": [
       "[<matplotlib.lines.Line2D at 0x7fd7dc8791d0>]"
      ]
     },
     "execution_count": 50,
     "metadata": {},
     "output_type": "execute_result"
    },
    {
     "data": {
      "image/png": "[encoded data removed]",
      "text/plain": [
       "<Figure size 432x288 with 1 Axes>"
      ]
     },
     "metadata": {
      "needs_background": "light"
     },
     "output_type": "display_data"
    }
   ],
   "source": [
    "data_plt1=data[0,0,:,:,0].reshape(14080)\n",
    "xi1_0,yi1_0=np.unique(data_plt1,return_counts=True)\n",
    "plt.plot(xi1_0,yi1_0)\n",
    "plt.show()\n",
    "data_plt2=data[0,140,:,:,0].reshape(14080)\n",
    "xi2_0,yi2_0=np.unique(data_plt2,return_counts=True)\n",
    "plt.plot(xi2_0,yi2_0)"
   ]
  },
  {
   "cell_type": "code",
   "execution_count": 51,
   "metadata": {},
   "outputs": [
    {
     "data": {
      "image/png": "[encoded data removed]",
      "text/plain": [
       "<Figure size 432x288 with 1 Axes>"
      ]
     },
     "metadata": {
      "needs_background": "light"
     },
     "output_type": "display_data"
    },
    {
     "data": {
      "text/plain": [
       "[<matplotlib.lines.Line2D at 0x7fd7dcad5e10>]"
      ]
     },
     "execution_count": 51,
     "metadata": {},
     "output_type": "execute_result"
    },
    {
     "data": {
      "image/png": "[encoded data removed]",
      "text/plain": [
       "<Figure size 432x288 with 1 Axes>"
      ]
     },
     "metadata": {
      "needs_background": "light"
     },
     "output_type": "display_data"
    }
   ],
   "source": [
    "\n",
    "data=scale((readfile_br(path,start,end)))\n",
    "data_plt1=data[0,0,:,:,0].reshape(14080)\n",
    "xi1,yi1=np.unique(data_plt1,return_counts=True)\n",
    "plt.plot(xi1,yi1)\n",
    "plt.show()\n",
    "data_plt2=data[0,140,:,:,0].reshape(14080)\n",
    "xi2,yi2=np.unique(data_plt2,return_counts=True)\n",
    "plt.plot(xi2,yi2)"
   ]
  },
  {
   "cell_type": "code",
   "execution_count": 9,
   "metadata": {},
   "outputs": [
    {
     "data": {
      "text/plain": [
       "131.46794"
      ]
     },
     "execution_count": 9,
     "metadata": {},
     "output_type": "execute_result"
    }
   ],
   "source": [
    "data[0,140,118,100,0]"
   ]
  },
  {
   "cell_type": "code",
   "execution_count": 54,
   "metadata": {},
   "outputs": [
    {
     "data": {
      "text/plain": [
       "183.48941"
      ]
     },
     "execution_count": 54,
     "metadata": {},
     "output_type": "execute_result"
    }
   ],
   "source": [
    "xi1[12787]"
   ]
  },
  {
   "cell_type": "code",
   "execution_count": 41,
   "metadata": {},
   "outputs": [
    {
     "data": {
      "text/plain": [
       "array([128, 128])"
      ]
     },
     "execution_count": 41,
     "metadata": {},
     "output_type": "execute_result"
    }
   ],
   "source": [
    "yi1[yi1==128]"
   ]
  },
  {
   "cell_type": "code",
   "execution_count": 43,
   "metadata": {},
   "outputs": [
    {
     "data": {
      "text/plain": [
       "(array([ 3078, 12787]),)"
      ]
     },
     "execution_count": 43,
     "metadata": {},
     "output_type": "execute_result"
    }
   ],
   "source": [
    "np.where(yi1 == 128)"
   ]
  },
  {
   "cell_type": "code",
   "execution_count": 52,
   "metadata": {},
   "outputs": [
    {
     "data": {
      "text/plain": [
       "-0.0002774293"
      ]
     },
     "execution_count": 52,
     "metadata": {},
     "output_type": "execute_result"
    }
   ],
   "source": [
    "xi1_0[3078]"
   ]
  },
  {
   "cell_type": "code",
   "execution_count": 53,
   "metadata": {},
   "outputs": [
    {
     "data": {
      "text/plain": [
       "4.4682956e-06"
      ]
     },
     "execution_count": 53,
     "metadata": {},
     "output_type": "execute_result"
    }
   ],
   "source": [
    "xi2_0[12787]"
   ]
  },
  {
   "cell_type": "code",
   "execution_count": 56,
   "metadata": {},
   "outputs": [
    {
     "data": {
      "text/plain": [
       "-0.0002996492"
      ]
     },
     "execution_count": 56,
     "metadata": {},
     "output_type": "execute_result"
    }
   ],
   "source": [
    "xi1_0[1071]"
   ]
  },
  {
   "cell_type": "code",
   "execution_count": null,
   "metadata": {},
   "outputs": [],
   "source": []
  }
 ],
 "metadata": {
  "kernelspec": {
   "display_name": "Python 3",
   "language": "python",
   "name": "python3"
  },
  "language_info": {
   "codemirror_mode": {
    "name": "ipython",
    "version": 3
   },
   "file_extension": ".py",
   "mimetype": "text/x-python",
   "name": "python",
   "nbconvert_exporter": "python",
   "pygments_lexer": "ipython3",
   "version": "3.7.9"
  }
 },
 "nbformat": 4,
 "nbformat_minor": 4
}
