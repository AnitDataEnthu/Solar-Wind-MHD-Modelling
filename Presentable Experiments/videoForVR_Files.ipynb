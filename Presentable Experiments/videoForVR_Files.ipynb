{
 "cells": [
  {
   "cell_type": "code",
   "execution_count": 22,
   "metadata": {},
   "outputs": [
    {
     "name": "stdout",
     "output_type": "stream",
     "text": [
      "/Users/agupta/Documents/DM LAB/projects/e3d_lstm-master/Presentable Experiments\n"
     ]
    }
   ],
   "source": [
    "from pyhdf.SD  import *\n",
    "import numpy as np \n",
    "import matplotlib.pyplot as plt\n",
    "import os\n",
    "from skimage.measure import compare_ssim\n",
    "import pandas as pd\n",
    "print(os.getcwd())\n",
    "\n",
    "def readfile_br(path,start,end):\n",
    "    sequence=[]\n",
    "    count=end-start\n",
    "    for i in range(start,end):\n",
    "        thispath=path+\"vr002_\"+str(i)+\".hdf\"\n",
    "        #print(\"Reading Files :\",thispath)\n",
    "        image_sequence = SD(thispath, SDC.READ)\n",
    "        sds_obj = image_sequence.select('Data-Set-2')\n",
    "        dim3 = sds_obj.get()\n",
    "        frame=[]\n",
    "        for i in range(0,140):\n",
    "            frame.append(dim3[:,:,i])\n",
    "        frame=np.array(frame)\n",
    "        sequence.append(frame)\n",
    "    sequence=np.array(sequence)\n",
    "    data=sequence.reshape(count,140,128,111,1)\n",
    "    #data=pad_the_frame(data)\n",
    "    return data\n",
    "\n",
    "def scale(data):\n",
    "    from sklearn.preprocessing import minmax_scale\n",
    "    shape = data.shape\n",
    "    data = minmax_scale(data.ravel(), feature_range=(0,255)).reshape(shape)\n",
    "    return data\n"
   ]
  },
  {
   "cell_type": "code",
   "execution_count": 43,
   "metadata": {},
   "outputs": [],
   "source": [
    "path=\"/Users/agupta/Documents/DM LAB/projects/e3d_lstm-master/data/sampleData/\"\n",
    "data=scale(readfile_br(path,5,6))"
   ]
  },
  {
   "cell_type": "code",
   "execution_count": 44,
   "metadata": {},
   "outputs": [],
   "source": [
    "for i in range(1,140):\n",
    "    plt.imsave(('vr_files/'+str(i)+'.png'),data[0,i,:,:,0])"
   ]
  },
  {
   "cell_type": "code",
   "execution_count": 45,
   "metadata": {},
   "outputs": [
    {
     "name": "stderr",
     "output_type": "stream",
     "text": [
      "t:  19%|█▉        | 27/139 [00:00<00:00, 269.44it/s, now=None]"
     ]
    },
    {
     "name": "stdout",
     "output_type": "stream",
     "text": [
      "Moviepy - Building video my_video.mp4.\n",
      "Moviepy - Writing video my_video.mp4\n",
      "\n"
     ]
    },
    {
     "name": "stderr",
     "output_type": "stream",
     "text": [
      "                                                               "
     ]
    },
    {
     "name": "stdout",
     "output_type": "stream",
     "text": [
      "Moviepy - Done !\n",
      "Moviepy - video ready my_video.mp4\n"
     ]
    },
    {
     "name": "stderr",
     "output_type": "stream",
     "text": [
      "\r"
     ]
    }
   ],
   "source": [
    "import os\n",
    "import moviepy.video.io.ImageSequenceClip\n",
    "image_folder='vr_files/'\n",
    "fps=15\n",
    "\n",
    "image_files = [image_folder+'/'+img for img in os.listdir(image_folder) if img.endswith(\".png\")]\n",
    "clip = moviepy.video.io.ImageSequenceClip.ImageSequenceClip(image_files, fps=fps)\n",
    "clip.write_videofile('my_video.mp4')"
   ]
  },
  {
   "cell_type": "code",
   "execution_count": null,
   "metadata": {},
   "outputs": [],
   "source": []
  }
 ],
 "metadata": {
  "kernelspec": {
   "display_name": "Python 3",
   "language": "python",
   "name": "python3"
  },
  "language_info": {
   "codemirror_mode": {
    "name": "ipython",
    "version": 3
   },
   "file_extension": ".py",
   "mimetype": "text/x-python",
   "name": "python",
   "nbconvert_exporter": "python",
   "pygments_lexer": "ipython3",
   "version": "3.7.9"
  }
 },
 "nbformat": 4,
 "nbformat_minor": 4
}
