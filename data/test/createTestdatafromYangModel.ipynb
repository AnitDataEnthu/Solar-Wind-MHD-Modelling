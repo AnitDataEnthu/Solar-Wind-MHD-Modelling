{
 "cells": [
  {
   "cell_type": "code",
   "execution_count": 1,
   "metadata": {},
   "outputs": [],
   "source": [
    "from pyhdf.SD  import *\n",
    "import numpy as np \n",
    "import matplotlib.pyplot as plt"
   ]
  },
  {
   "cell_type": "code",
   "execution_count": 125,
   "metadata": {},
   "outputs": [],
   "source": [
    "def readData(predicted_samples,original_samples):\n",
    "    \n",
    "    predicted=np.load(predicted_samples)\n",
    "    print(\"shape of the predicted samples\",predicted.shape)\n",
    "\n",
    "    original=np.load(original_samples)\n",
    "    print(\"shape of the original samples\",original.shape)\n",
    "    return len(original),predicted,original\n",
    "\n",
    "def getIntrestingFrame(num_samples,sequence_length,predicted,original):    \n",
    "    f_data=np.zeros((num_samples,sequence_length,128,110))\n",
    "    f_data[:,0:5,:,:]=predicted[:,:,:,:]\n",
    "    f_data[:,5:10,:,:]=original[:,136:141,:,:]\n",
    "    print(\"shape of the intresting frames\",f_data.shape)\n",
    "    return f_data.reshape(num_samples,sequence_length,128,110,1)\n",
    "def scale(data):\n",
    "    from sklearn.preprocessing import minmax_scale\n",
    "    shape = data.shape\n",
    "    data = minmax_scale(data.ravel(), feature_range=(0,255)).reshape(shape)\n",
    "    return data\n",
    "\n",
    "def printAP(a,d,n): \n",
    "    curr_term=a \n",
    "    series=[]\n",
    "    for i in range(1,n+1): \n",
    "        series.append(int(curr_term))\n",
    "        curr_term =int(curr_term + d)\n",
    "    return series\n",
    "\n",
    "def createPatchyData_no_overlap(data,window):\n",
    "    image_size=(data.shape[2],data.shape[3])\n",
    "    #window=(32,32)\n",
    "    #stride=(3,3)\n",
    "    stride = window\n",
    "    new_data=[]\n",
    "    frame_num=-1\n",
    "    for file in range(data.shape[0]):\n",
    "        h_stop=0\n",
    "        for h in range(0,image_size[0],stride[0]):\n",
    "            if h_stop:\n",
    "                break\n",
    "            if h + window[0] >= image_size[0]:\n",
    "                h=image_size[0] - window[0]\n",
    "                h_stop=1\n",
    "            v_stop=0\n",
    "            for v in range(0,image_size[1],stride[1]):\n",
    "                if v_stop:\n",
    "                    break\n",
    "                if v + window[1] >= image_size[1]:\n",
    "                    v=image_size[1] - window[1]\n",
    "                    v_stop=1\n",
    "                frame_num+=1\n",
    "                new_data.append(data[file,:,h:h + window[0],v:v + window[1],:])\n",
    "    new_data=np.array(new_data)\n",
    "    return new_data\n",
    "\n",
    "def createTestDataFromModel1(predicted_samples,original_samples,sequence_length,sample_number):\n",
    "\n",
    "    num_samples,predicted,original=readData(predicted_samples,original_samples)\n",
    "    f_data=getIntrestingFrame(num_samples,sequence_length,predicted,original)\n",
    "    #s_data=scale(f_data)\n",
    "    s_data=f_data\n",
    "    print(\"shape of the data before patching\",s_data.shape)\n",
    "    fin_Data=createPatchyData_no_overlap(s_data[sample_number].reshape(1,10,128,110,1),(64,64))\n",
    "    print(\"shape of the data after patching and selecting sample_number\",fin_Data.shape)\n",
    "\n",
    "\n",
    "    gen_images = np.transpose(fin_Data, [0,1,4,2,3])\n",
    "    final_data=gen_images.reshape(gen_images.shape[0]*10,1,64,64)\n",
    "\n",
    "    myclip=np.zeros((2,fin_Data.shape[0],2),int)\n",
    "    a = 0 # starting number \n",
    "    d = sequence_length # Common difference \n",
    "    n = fin_Data.shape[0] # N th term to be find \n",
    "\n",
    "    x=printAP(a, d, n)\n",
    "    myclip[0,:,0]=x\n",
    "\n",
    "    a = 5 # starting number \n",
    "    d = sequence_length # Common difference \n",
    "    n = fin_Data.shape[0] # N th term to be find \n",
    "    print(fin_Data.shape[0])\n",
    "    y=printAP(a, d, n)\n",
    "    myclip[1,:,0]=y\n",
    "    myclip[0,:,1]=5\n",
    "    myclip[1,:,1]=5\n",
    "    print(\"Shape of the clip file : \",myclip.shape)\n",
    "    print(\"############ To check the my clip and validate from mnist datset : \",myclip.shape , \"############\")\n",
    "    print('myclips[0,:,0]',myclip[0,:,0])\n",
    "    print('myclips[1,:,0]',myclip[1,:,0])\n",
    "    print('myclips[0,:,1]',myclip[0,:,1])\n",
    "    print('myclips[1,:,1]',myclip[1,:,1])\n",
    "    print(\"############ End of Verification ############\")\n",
    "\n",
    "    dims=np.array((1,64,64),'int32')\n",
    "    my_dims=dims.reshape(1, 3)\n",
    "    print(\"Shape of the dims file : \",my_dims.shape)\n",
    "\n",
    "    return myclip,my_dims,final_data"
   ]
  },
  {
   "cell_type": "code",
   "execution_count": 126,
   "metadata": {},
   "outputs": [
    {
     "name": "stdout",
     "output_type": "stream",
     "text": [
      "shape of the predicted samples (15, 5, 128, 110)\n",
      "shape of the original samples (15, 141, 128, 110)\n",
      "shape of the intresting frames (15, 10, 128, 110)\n",
      "shape of the data before patching (15, 10, 128, 110, 1)\n",
      "shape of the data after patching and selecting sample_number (4, 10, 64, 64, 1)\n",
      "4\n",
      "Shape of the clip file :  (2, 4, 2)\n",
      "############ To check the my clip and validate from mnist datset :  (2, 4, 2) ############\n",
      "myclips[0,:,0] [ 0 10 20 30]\n",
      "myclips[1,:,0] [ 5 15 25 35]\n",
      "myclips[0,:,1] [5 5 5 5]\n",
      "myclips[1,:,1] [5 5 5 5]\n",
      "############ End of Verification ############\n",
      "Shape of the dims file :  (1, 3)\n",
      "Load arrays from the 'PSI-valid.npz' file:\n",
      "(2, 4, 2)\n",
      "(1, 3)\n",
      "(40, 1, 64, 64)\n"
     ]
    }
   ],
   "source": [
    "predicted_samples='15_samples_5_frames_prediction.npy'\n",
    "original_samples='15_samples_140_frames_real_new.npy'\n",
    "sequence_length=10\n",
    "sample_number=13\n",
    "#'clips', 'dims', 'input_raw_data'\n",
    "path=\"sampleData/\"\n",
    "\n",
    "\n",
    "clips_valid,dims_valid,input_raw_data_valid=createTestDataFromModel1(predicted_samples,original_samples,sequence_length,sample_number)\n",
    "\n",
    "np.savez('PSI/PSI-valid.npz', clips=clips_valid, dims=dims_valid,input_raw_data=input_raw_data_valid)\n",
    "print(\"Load arrays from the 'PSI-valid.npz' file:\")\n",
    "with np.load('PSI/PSI-valid.npz') as data:\n",
    "    x2 = data['clips']\n",
    "    y2 = data['dims']\n",
    "    z2 = data['input_raw_data']\n",
    "    print(x2.shape)\n",
    "    print(y2.shape)\n",
    "    print(z2.shape)"
   ]
  },
  {
   "cell_type": "code",
   "execution_count": 158,
   "metadata": {},
   "outputs": [
    {
     "data": {
      "text/plain": [
       "array([[147., 149., 149., ..., 105., 105., 106.],\n",
       "       [148., 148., 149., ..., 104., 105., 105.],\n",
       "       [148., 147., 148., ..., 104., 104., 105.],\n",
       "       ...,\n",
       "       [148., 147., 148., ..., 103., 103., 103.],\n",
       "       [148., 147., 148., ..., 103., 103., 103.],\n",
       "       [148., 147., 148., ..., 103., 103., 103.]])"
      ]
     },
     "execution_count": 158,
     "metadata": {},
     "output_type": "execute_result"
    }
   ],
   "source": [
    "y=np.load(predicted_samples)\n",
    "y[13,0,0:64,0:64]"
   ]
  },
  {
   "cell_type": "code",
   "execution_count": 159,
   "metadata": {},
   "outputs": [
    {
     "data": {
      "text/plain": [
       "(15, 5, 128, 110)"
      ]
     },
     "execution_count": 159,
     "metadata": {},
     "output_type": "execute_result"
    }
   ],
   "source": [
    "y[13,0,0:64,0:64].shape"
   ]
  },
  {
   "cell_type": "code",
   "execution_count": 133,
   "metadata": {},
   "outputs": [],
   "source": [
    "x=np.load('../results/_mnist_e3d_lstm/PSI_test_result/1/gt01.npy')"
   ]
  },
  {
   "cell_type": "code",
   "execution_count": 160,
   "metadata": {},
   "outputs": [
    {
     "data": {
      "text/plain": [
       "array([[147., 149., 149., ..., 105., 105., 106.],\n",
       "       [148., 148., 149., ..., 104., 105., 105.],\n",
       "       [148., 147., 148., ..., 104., 104., 105.],\n",
       "       ...,\n",
       "       [148., 147., 148., ..., 103., 103., 103.],\n",
       "       [148., 147., 148., ..., 103., 103., 103.],\n",
       "       [148., 147., 148., ..., 103., 103., 103.]], dtype=float32)"
      ]
     },
     "execution_count": 160,
     "metadata": {},
     "output_type": "execute_result"
    }
   ],
   "source": [
    "x"
   ]
  },
  {
   "cell_type": "code",
   "execution_count": null,
   "metadata": {},
   "outputs": [],
   "source": []
  }
 ],
 "metadata": {
  "kernelspec": {
   "display_name": "Python 3",
   "language": "python",
   "name": "python3"
  },
  "language_info": {
   "codemirror_mode": {
    "name": "ipython",
    "version": 3
   },
   "file_extension": ".py",
   "mimetype": "text/x-python",
   "name": "python",
   "nbconvert_exporter": "python",
   "pygments_lexer": "ipython3",
   "version": "3.7.4"
  }
 },
 "nbformat": 4,
 "nbformat_minor": 4
}
